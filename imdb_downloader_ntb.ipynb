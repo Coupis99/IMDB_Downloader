{
 "cells": [
  {
   "cell_type": "code",
   "execution_count": 1,
   "id": "e2b4e299",
   "metadata": {},
   "outputs": [],
   "source": [
    "import requests\n",
    "import pandas as pd\n",
    "from bs4 import BeautifulSoup\n",
    "from tqdm import tqdm"
   ]
  },
  {
   "cell_type": "code",
   "execution_count": 601,
   "id": "76f56b45",
   "metadata": {},
   "outputs": [],
   "source": [
    "def get_url(name):\n",
    "    try:\n",
    "        query = \"+\".join(name.split())\n",
    "        r = requests.get(f\"https://www.imdb.com/search/name/?name={query}\")\n",
    "        soup = BeautifulSoup(r.text, 'html.parser')\n",
    "        apendix = soup.find(\"div\", {\"class\": \"lister-item mode-detail\"}).find(\"a\").get(\"href\")\n",
    "        url = \"https://www.imdb.com\" + apendix\n",
    "        return url\n",
    "    except:\n",
    "        return None"
   ]
  },
  {
   "cell_type": "code",
   "execution_count": 602,
   "id": "efe6237e",
   "metadata": {},
   "outputs": [],
   "source": [
    "def get_roles(soup):\n",
    "    try:\n",
    "        roles_arr = []\n",
    "        roles = soup.find(\"div\", {\"class\": \"filmo-category-section\"})\n",
    "        for role in roles.find_all(\"div\", recursive=False):\n",
    "            if len(role.find_all(\"a\", {\"class\": \"in_production\"})) == 0:\n",
    "                res = \"\"\n",
    "                for val in role.find_all(text=True, recursive=False):\n",
    "                    if val.strip() != \"\":\n",
    "                        res = val.strip()\n",
    "                roles_arr.append(res + \" in \" + str(role.find(\"a\").text))\n",
    "                if len(roles_arr) > 2:\n",
    "                    break\n",
    "        return roles_arr\n",
    "    except:\n",
    "        return None"
   ]
  },
  {
   "cell_type": "code",
   "execution_count": 603,
   "id": "1ac58c0e",
   "metadata": {},
   "outputs": [],
   "source": [
    "def get_video_url(soup):\n",
    "    try:\n",
    "        apendix = soup.find(\"div\", {\"class\": \"heroWidget\"}).find(\"a\").get(\"href\")\n",
    "        video_url = \"https://www.imdb.com\" + apendix\n",
    "        return video_url\n",
    "    except:\n",
    "        return None"
   ]
  },
  {
   "cell_type": "code",
   "execution_count": 604,
   "id": "06a53277",
   "metadata": {},
   "outputs": [],
   "source": [
    "def get_bio(soup, url):\n",
    "    try:\n",
    "        r = requests.get(url +\"/bio\")\n",
    "        soup = BeautifulSoup(r.text)\n",
    "        bio = soup.find(\"div\", {\"class\": \"soda odd\"}).find(\"p\").text.strip()\n",
    "        return bio\n",
    "    except:\n",
    "        return None"
   ]
  },
  {
   "cell_type": "code",
   "execution_count": 605,
   "id": "77aa7989",
   "metadata": {},
   "outputs": [],
   "source": [
    "def get_other_works(soup):\n",
    "    try:\n",
    "        res = \"\"\n",
    "        arr = soup.find(\"div\", {\"id\": \"details-other-works\"}).find_all(text = True, recursive = False)\n",
    "        for val in arr:\n",
    "            if val.strip() != \"\":\n",
    "                res = val.strip()\n",
    "                break\n",
    "        return res\n",
    "    except:\n",
    "        return None"
   ]
  },
  {
   "cell_type": "code",
   "execution_count": 606,
   "id": "3d6be87d",
   "metadata": {},
   "outputs": [],
   "source": [
    "def get_spouse(soup):\n",
    "    try:\n",
    "        spouse = soup.find(\"div\", {\"id\": \"details-spouses\"}).find(\"a\").text\n",
    "        return spouse\n",
    "    except:\n",
    "        return None"
   ]
  },
  {
   "cell_type": "code",
   "execution_count": 607,
   "id": "3e46130f",
   "metadata": {},
   "outputs": [],
   "source": [
    "def get_alternate_names(soup):\n",
    "    try:\n",
    "        res = []\n",
    "        akas = soup.find(\"div\", {\"id\": \"details-akas\"}).find_all(text = True, recursive = False)\n",
    "        for val in akas:\n",
    "            if val.strip() != \"\":\n",
    "                res.append(val.strip())\n",
    "        return str(\", \".join(res))\n",
    "    except:\n",
    "        return None"
   ]
  },
  {
   "cell_type": "code",
   "execution_count": 608,
   "id": "1bf0b9f9",
   "metadata": {},
   "outputs": [],
   "source": [
    "def get_children(soup):\n",
    "    try:\n",
    "        res = []\n",
    "        arr = soup.find(\"div\", {\"id\": \"details-children\"}).find_all(text = True, recursive = True)\n",
    "        for val in arr:\n",
    "            if (val.strip() != \"\") and (val.strip() != \"Children:\") and (val.strip() != \"|\"):\n",
    "                res.append(val.strip())\n",
    "        return \" | \".join(res)\n",
    "    except:\n",
    "        return None"
   ]
  },
  {
   "cell_type": "code",
   "execution_count": 609,
   "id": "0ff8fceb",
   "metadata": {},
   "outputs": [],
   "source": [
    "def get_parents(soup):\n",
    "    try:\n",
    "        res = []\n",
    "        arr = soup.find(\"div\", {\"id\": \"details-parents\"}).find_all(text = True, recursive = True)\n",
    "        for val in arr:\n",
    "            if (val.strip() != \"\") and (val.strip() != \"Parents:\") and (val.strip() != \"|\"):\n",
    "                res.append(val.strip())\n",
    "        return \" | \".join(res)\n",
    "    except:\n",
    "        return None"
   ]
  },
  {
   "cell_type": "code",
   "execution_count": 610,
   "id": "03a758e5",
   "metadata": {},
   "outputs": [],
   "source": [
    "def get_quotes(soup):\n",
    "    try:\n",
    "        res = []\n",
    "        arr = soup.find(\"div\", {\"id\": \"dyk-personal-quote\"}).find_all(text = True, recursive = True)\n",
    "        for val in arr:\n",
    "                if (val.strip() != \"\") and (val.strip() != \"Personal Quote:\") and (val.strip() != \"»\") and (val != \"See more\"):\n",
    "                    res.append(val.strip())\n",
    "        return \" | \".join(res)\n",
    "    except:\n",
    "        return None"
   ]
  },
  {
   "cell_type": "code",
   "execution_count": 611,
   "id": "abbda3c8",
   "metadata": {},
   "outputs": [],
   "source": [
    "def get_trivia(soup):\n",
    "    try:\n",
    "        res = []\n",
    "        arr = soup.find(\"div\", {\"id\": \"dyk-trivia\"}).find_all(text = True, recursive = True)\n",
    "        for val in arr:\n",
    "                if (val.strip() != \"\") and (val.strip() != \"Trivia:\") and (val.strip() != \"»\") and (val != \"See more\"):\n",
    "                    res.append(val.strip())\n",
    "        return \" | \".join(res)\n",
    "    except:\n",
    "        return None"
   ]
  },
  {
   "cell_type": "code",
   "execution_count": 612,
   "id": "626a8b5d",
   "metadata": {},
   "outputs": [],
   "source": [
    "def get_trademark(soup):\n",
    "    try:\n",
    "        res = []\n",
    "        arr = soup.find(\"div\", {\"id\": \"dyk-trademark\"}).find_all(text = True, recursive = True)\n",
    "        for val in arr:\n",
    "                if (val.strip() != \"\") and (val.strip() != \"Trademark:\") and (val.strip() != \"»\") and (val != \"See more\"):\n",
    "                    res.append(val.strip())\n",
    "        return \" | \".join(res)\n",
    "    except:\n",
    "        return None"
   ]
  },
  {
   "cell_type": "code",
   "execution_count": 613,
   "id": "ac742885",
   "metadata": {},
   "outputs": [],
   "source": [
    "def get_nickname(soup):\n",
    "    try:\n",
    "        res = []\n",
    "        arr = soup.find(\"div\", {\"id\": \"dyk-nickname\"}).find_all(text = True, recursive = True)\n",
    "        for val in arr:\n",
    "                if (val.strip() != \"\") and (val.strip() != \"Nickname:\") and (val.strip() != \"»\") and (val != \"See more\"):\n",
    "                    res.append(val.strip())\n",
    "        return \" | \".join(res)\n",
    "    except:\n",
    "        return None"
   ]
  },
  {
   "cell_type": "code",
   "execution_count": 622,
   "id": "e3f141fd",
   "metadata": {},
   "outputs": [],
   "source": [
    "def main():\n",
    "    names = [\"Ian Somerhalder\", \"Selena Gomez\", \"David Henry\", \"Adam Driver\", \"Adam Sandler\"]\n",
    "    columns = [\"Person name\", \"URL\", \"Role 1\", \"Role 2\", \"Role 3\", \"Video\", \"Actor description\",\n",
    "                                \"Other works\", \"Alternate names\", \"Spouse\", \"Children\", \"Parents\", \"Personal quotes\",\n",
    "                                \"Trivia\", \"Trademark\", \"Nickname\"]\n",
    "    df_main = pd.DataFrame(columns = columns)\n",
    "    for name in tqdm(names):\n",
    "        url = get_url(name)\n",
    "        headers = {\"Accept-Language\": \"en,en-gb;q=0.5\"}\n",
    "        r = requests.get(url, headers=headers)\n",
    "        soup = BeautifulSoup(r.text)\n",
    "        d = {columns[0]: [name], columns[1]: [url], columns[2]: [get_roles(soup)[0]], columns[3]: [get_roles(soup)[1]], \n",
    "            columns[4]: [get_roles(soup)[2]], columns[5]: [get_video_url(soup)], columns[6]: [get_bio(soup, url)], \n",
    "            columns[7]: [get_other_works(soup)], columns[8]: [get_alternate_names(soup)], columns[9]: [get_spouse(soup)],\n",
    "            columns[10]: [get_children(soup)], columns[11]: [get_parents(soup)], columns[12]: [get_quotes(soup)],\n",
    "            columns[13]: [get_trivia(soup)], columns[14]: [get_trademark(soup)], columns[15]: [get_nickname(soup)]}\n",
    "        df_temp = pd.DataFrame.from_dict(d)\n",
    "        df_main = pd.concat([df_main, df_temp], ignore_index = True)\n",
    "    df_main.to_excel(\"output.xlsx\")\n",
    "    return df_main\n",
    "    "
   ]
  },
  {
   "cell_type": "code",
   "execution_count": 623,
   "id": "d4cb12a0",
   "metadata": {},
   "outputs": [
    {
     "name": "stderr",
     "output_type": "stream",
     "text": [
      "100%|█████████████████████████████████████████████| 5/5 [00:13<00:00,  2.73s/it]\n"
     ]
    }
   ],
   "source": [
    "if __name__ == \"__main__\":\n",
    "    main()"
   ]
  },
  {
   "cell_type": "code",
   "execution_count": 23,
   "id": "c3a24bc3",
   "metadata": {},
   "outputs": [],
   "source": [
    "column = [\"Missing_data\"]\n",
    "df = pd.DataFrame(columns = column)"
   ]
  },
  {
   "cell_type": "code",
   "execution_count": 25,
   "id": "2e38f8ee",
   "metadata": {},
   "outputs": [],
   "source": [
    "df.loc[\"\"] = [\"ahoj\"]"
   ]
  },
  {
   "cell_type": "code",
   "execution_count": 26,
   "id": "9b689efe",
   "metadata": {},
   "outputs": [
    {
     "data": {
      "text/html": [
       "<div>\n",
       "<style scoped>\n",
       "    .dataframe tbody tr th:only-of-type {\n",
       "        vertical-align: middle;\n",
       "    }\n",
       "\n",
       "    .dataframe tbody tr th {\n",
       "        vertical-align: top;\n",
       "    }\n",
       "\n",
       "    .dataframe thead th {\n",
       "        text-align: right;\n",
       "    }\n",
       "</style>\n",
       "<table border=\"1\" class=\"dataframe\">\n",
       "  <thead>\n",
       "    <tr style=\"text-align: right;\">\n",
       "      <th></th>\n",
       "      <th>Missing_data</th>\n",
       "    </tr>\n",
       "  </thead>\n",
       "  <tbody>\n",
       "    <tr>\n",
       "      <th></th>\n",
       "      <td>ahoj</td>\n",
       "    </tr>\n",
       "  </tbody>\n",
       "</table>\n",
       "</div>"
      ],
      "text/plain": [
       " Missing_data\n",
       "         ahoj"
      ]
     },
     "execution_count": 26,
     "metadata": {},
     "output_type": "execute_result"
    }
   ],
   "source": [
    "df"
   ]
  },
  {
   "cell_type": "code",
   "execution_count": null,
   "id": "351d0323",
   "metadata": {},
   "outputs": [],
   "source": []
  }
 ],
 "metadata": {
  "kernelspec": {
   "display_name": "Python 3 (ipykernel)",
   "language": "python",
   "name": "python3"
  },
  "language_info": {
   "codemirror_mode": {
    "name": "ipython",
    "version": 3
   },
   "file_extension": ".py",
   "mimetype": "text/x-python",
   "name": "python",
   "nbconvert_exporter": "python",
   "pygments_lexer": "ipython3",
   "version": "3.10.1"
  },
  "vscode": {
   "interpreter": {
    "hash": "aee8b7b246df8f9039afb4144a1f6fd8d2ca17a180786b69acc140d282b71a49"
   }
  }
 },
 "nbformat": 4,
 "nbformat_minor": 5
}
